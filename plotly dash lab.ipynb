{
    "cells": [
        {
            "cell_type": "code",
            "execution_count": 1,
            "id": "e4334f79",
            "metadata": {},
            "outputs": [],
            "source": "import dash\nimport dash_html_components as html\nimport dash_core_components as dcc\nimport pandas as pd\nfrom dash.dependencies import Output,Input\nimport plotly.express as px"
        },
        {
            "cell_type": "code",
            "execution_count": 2,
            "id": "e52c95bb",
            "metadata": {},
            "outputs": [],
            "source": "df=pd.read_csv(\"https://cf-courses-data.s3.us.cloud-object-storage.appdomain.cloud/IBM-DS0321EN-SkillsNetwork/datasets/spacex_launch_dash.csv\")"
        },
        {
            "cell_type": "code",
            "execution_count": 3,
            "id": "423bc9d8",
            "metadata": {},
            "outputs": [
                {
                    "data": {
                        "text/html": "<div>\n<style scoped>\n    .dataframe tbody tr th:only-of-type {\n        vertical-align: middle;\n    }\n\n    .dataframe tbody tr th {\n        vertical-align: top;\n    }\n\n    .dataframe thead th {\n        text-align: right;\n    }\n</style>\n<table border=\"1\" class=\"dataframe\">\n  <thead>\n    <tr style=\"text-align: right;\">\n      <th></th>\n      <th>Unnamed: 0</th>\n      <th>Flight Number</th>\n      <th>Launch Site</th>\n      <th>Mission Outcome</th>\n      <th>class</th>\n      <th>Payload Mass (kg)</th>\n      <th>Booster Version</th>\n      <th>Booster Version Category</th>\n    </tr>\n  </thead>\n  <tbody>\n    <tr>\n      <th>0</th>\n      <td>0</td>\n      <td>1</td>\n      <td>CCAFS LC-40</td>\n      <td>Success</td>\n      <td>0</td>\n      <td>0.0</td>\n      <td>F9 v1.0  B0003</td>\n      <td>v1.0</td>\n    </tr>\n    <tr>\n      <th>1</th>\n      <td>1</td>\n      <td>2</td>\n      <td>CCAFS LC-40</td>\n      <td>Success</td>\n      <td>0</td>\n      <td>0.0</td>\n      <td>F9 v1.0  B0004</td>\n      <td>v1.0</td>\n    </tr>\n    <tr>\n      <th>2</th>\n      <td>2</td>\n      <td>3</td>\n      <td>CCAFS LC-40</td>\n      <td>Success</td>\n      <td>0</td>\n      <td>525.0</td>\n      <td>F9 v1.0  B0005</td>\n      <td>v1.0</td>\n    </tr>\n    <tr>\n      <th>3</th>\n      <td>3</td>\n      <td>4</td>\n      <td>CCAFS LC-40</td>\n      <td>Success</td>\n      <td>0</td>\n      <td>500.0</td>\n      <td>F9 v1.0  B0006</td>\n      <td>v1.0</td>\n    </tr>\n    <tr>\n      <th>4</th>\n      <td>4</td>\n      <td>5</td>\n      <td>CCAFS LC-40</td>\n      <td>Success</td>\n      <td>0</td>\n      <td>677.0</td>\n      <td>F9 v1.0  B0007</td>\n      <td>v1.0</td>\n    </tr>\n  </tbody>\n</table>\n</div>",
                        "text/plain": "   Unnamed: 0  Flight Number  Launch Site Mission Outcome  class  \\\n0           0              1  CCAFS LC-40         Success      0   \n1           1              2  CCAFS LC-40         Success      0   \n2           2              3  CCAFS LC-40         Success      0   \n3           3              4  CCAFS LC-40         Success      0   \n4           4              5  CCAFS LC-40         Success      0   \n\n   Payload Mass (kg) Booster Version Booster Version Category  \n0                0.0  F9 v1.0  B0003                     v1.0  \n1                0.0  F9 v1.0  B0004                     v1.0  \n2              525.0  F9 v1.0  B0005                     v1.0  \n3              500.0  F9 v1.0  B0006                     v1.0  \n4              677.0  F9 v1.0  B0007                     v1.0  "
                    },
                    "execution_count": 3,
                    "metadata": {},
                    "output_type": "execute_result"
                }
            ],
            "source": "df.head()"
        },
        {
            "cell_type": "code",
            "execution_count": 4,
            "id": "72d7c18a",
            "metadata": {},
            "outputs": [
                {
                    "data": {
                        "text/html": "<div>\n<style scoped>\n    .dataframe tbody tr th:only-of-type {\n        vertical-align: middle;\n    }\n\n    .dataframe tbody tr th {\n        vertical-align: top;\n    }\n\n    .dataframe thead th {\n        text-align: right;\n    }\n</style>\n<table border=\"1\" class=\"dataframe\">\n  <thead>\n    <tr style=\"text-align: right;\">\n      <th></th>\n      <th>success</th>\n      <th>count</th>\n    </tr>\n  </thead>\n  <tbody>\n    <tr>\n      <th>0</th>\n      <td>0</td>\n      <td>19</td>\n    </tr>\n    <tr>\n      <th>1</th>\n      <td>1</td>\n      <td>7</td>\n    </tr>\n  </tbody>\n</table>\n</div>",
                        "text/plain": "   success  count\n0        0     19\n1        1      7"
                    },
                    "execution_count": 4,
                    "metadata": {},
                    "output_type": "execute_result"
                }
            ],
            "source": "data=df[df['Launch Site']=='CCAFS LC-40']\ndata=data.groupby(['class']).size().reset_index()\ndata.columns=['success','count']\ndata"
        },
        {
            "cell_type": "code",
            "execution_count": 5,
            "id": "1391319b",
            "metadata": {},
            "outputs": [
                {
                    "data": {
                        "text/plain": "Unnamed: 0                  0\nFlight Number               0\nLaunch Site                 0\nMission Outcome             0\nclass                       0\nPayload Mass (kg)           0\nBooster Version             0\nBooster Version Category    0\ndtype: int64"
                    },
                    "execution_count": 5,
                    "metadata": {},
                    "output_type": "execute_result"
                }
            ],
            "source": "df.isnull().sum()"
        },
        {
            "cell_type": "code",
            "execution_count": 6,
            "id": "efe077bd",
            "metadata": {},
            "outputs": [],
            "source": "df.drop('Unnamed: 0',axis=1,inplace=True)"
        },
        {
            "cell_type": "code",
            "execution_count": 7,
            "id": "dfe006dd",
            "metadata": {},
            "outputs": [
                {
                    "data": {
                        "text/plain": "['CCAFS LC-40', 'VAFB SLC-4E', 'KSC LC-39A', 'CCAFS SLC-40']"
                    },
                    "execution_count": 7,
                    "metadata": {},
                    "output_type": "execute_result"
                }
            ],
            "source": "Sites=df['Launch Site'].unique().tolist()\nSites"
        },
        {
            "cell_type": "code",
            "execution_count": 8,
            "id": "dcb83308",
            "metadata": {},
            "outputs": [],
            "source": "min_value, max_value=0,10000"
        },
        {
            "cell_type": "code",
            "execution_count": 9,
            "id": "697e8487",
            "metadata": {},
            "outputs": [],
            "source": "app=dash.Dash(__name__)"
        },
        {
            "cell_type": "code",
            "execution_count": 10,
            "id": "4a5996f2",
            "metadata": {},
            "outputs": [],
            "source": "app.layout=html.Div([\n    html.H1('SpaceX Launch Records dashboard',style={'textAlign':'center'}),\n    html.Div([\n        html.H2('select a launch site'),\n        dcc.Dropdown(id='site-dropdown',\n                options=[{'label': 'All Sites', 'value': 'ALL'},\n                         {'label':'CCAFS LC-40','value':'CCAFS LC-40'},\n                         {'label':'VAFB SLC-4E','value':'VAFB SLC-4E'},\n                         {'label':'KSC LC-39A','value':'KSC LC-39A'},\n                         {'label':'CCAFS SLC-40','value':'CCAFS SLC-40'}],\n                         \n                value='ALL',\n                placeholder=\"place holder here\",\n                searchable=True,\n                     style={'width':'80%', 'padding':'3px', 'font-size': '20px', 'text-align-last' : 'center'},\n                ),\n    ],style={'display':'flex'}),\n    dcc.Graph(figure={},id='success-pie-chart'),\n    html.Br(),\n    html.Br(),\n    html.Div([\n        html.H2('Payload Range (kg)'),\n        dcc.RangeSlider(id='payload-slider',\n                min=0, max=10000, step=1000,\n                marks={0: '0',\n                       100: '100'},\n                value=[min_value, max_value])\n    ]),\n    dcc.Graph(figure={},id='success-payload-scatter-chart')\n])"
        },
        {
            "cell_type": "code",
            "execution_count": 11,
            "id": "d52699d0",
            "metadata": {},
            "outputs": [],
            "source": "# Function decorator to specify function input and output\n@app.callback([Output(component_id='success-pie-chart', component_property='figure'),\n              Output(component_id='success-payload-scatter-chart', component_property='figure')],\n              [Input(component_id='site-dropdown', component_property='value'),\n               Input(component_id=\"payload-slider\", component_property=\"value\")])\ndef get_graph(entered_site,payload_range):\n    \n    if entered_site == 'ALL':\n        dataP=df[['class','Launch Site']].groupby(['Launch Site']).mean().reset_index()\n        dataP.columns=['Launch Site','success']\n        dataS=df[(df['Payload Mass (kg)']<payload_range[1])&(df['Payload Mass (kg)']>payload_range[0])]\n        fig1 = px.pie(dataP, values='success', names='Launch Site', title='Total Success Launches By Site')\n        fig2=px.scatter(dataS,x='Payload Mass (kg)',y='class',color='Booster Version Category',\n                        title='Correlation Between PayloadMass And Success For All Sites')\n        return fig1,fig2\n    else:\n        dataS=df[df['Launch Site']==entered_site]\n        dataP=dataS.groupby(['class']).size().reset_index()\n        dataP.columns=['success','count']\n        dataS=dataS[(df['Payload Mass (kg)']<payload_range[1])&(df['Payload Mass (kg)']>payload_range[0])]\n        title_pie='Total Success Launches For Site {}'.format(entered_site)\n        title_scatter='Correlation Between PayloadMass And Success For Site {}'.format(entered_site)\n        fig1=px.pie(dataP, values='count', names='success', title=title_pie)\n        fig2=px.scatter(dataS,x='Payload Mass (kg)',y='class',color='Booster Version Category',title=title_scatter)\n        return fig1,fig2\n"
        },
        {
            "cell_type": "code",
            "execution_count": null,
            "id": "da0b318b",
            "metadata": {},
            "outputs": [],
            "source": "if __name__ == '__main__':\n    app.run_server()"
        },
        {
            "cell_type": "code",
            "execution_count": null,
            "id": "67e07ec4",
            "metadata": {},
            "outputs": [],
            "source": ""
        }
    ],
    "metadata": {
        "kernelspec": {
            "display_name": "Python 3 (ipykernel)",
            "language": "python",
            "name": "python3"
        },
        "language_info": {
            "codemirror_mode": {
                "name": "ipython",
                "version": 3
            },
            "file_extension": ".py",
            "mimetype": "text/x-python",
            "name": "python",
            "nbconvert_exporter": "python",
            "pygments_lexer": "ipython3",
            "version": "3.8.7"
        }
    },
    "nbformat": 4,
    "nbformat_minor": 5
}